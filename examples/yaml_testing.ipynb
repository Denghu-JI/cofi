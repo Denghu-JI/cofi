{
 "cells": [
  {
   "cell_type": "code",
   "execution_count": null,
   "id": "changing-clark",
   "metadata": {},
   "outputs": [],
   "source": [
    "import yaml\n",
    "import sys\n",
    "\n",
    "with open(r'/home/peter/personal/CoFI/user_testing/rfc_example.yml') as file:\n",
    "    cofi_spec = yaml.load(file, Loader=yaml.FullLoader)\n",
    "\n",
    "sys.path.append(cofi_spec[\"fwd_code\"][\"location\"])\n",
    "import importlib\n",
    "usermodule = importlib.import_module(cofi_spec[\"fwd_code\"][\"name\"])\n",
    "\n",
    "cofi_spec\n",
    "\n",
    "usermodule.cofi_init()\n"
   ]
  },
  {
   "cell_type": "code",
   "execution_count": null,
   "id": "liked-trustee",
   "metadata": {},
   "outputs": [],
   "source": [
    "dir(usermodule)"
   ]
  },
  {
   "cell_type": "code",
   "execution_count": null,
   "id": "inner-purple",
   "metadata": {},
   "outputs": [],
   "source": [
    "cofi_spec"
   ]
  },
  {
   "cell_type": "code",
   "execution_count": null,
   "id": "casual-contribution",
   "metadata": {},
   "outputs": [],
   "source": [
    "print(usermodule.cofi_misfit.__doc__)"
   ]
  },
  {
   "cell_type": "code",
   "execution_count": null,
   "id": "african-america",
   "metadata": {},
   "outputs": [],
   "source": [
    "import scipy\n",
    "from scipy.stats import uniform"
   ]
  },
  {
   "cell_type": "code",
   "execution_count": null,
   "id": "equipped-feeding",
   "metadata": {},
   "outputs": [],
   "source": [
    "uniform.rvs()"
   ]
  },
  {
   "cell_type": "code",
   "execution_count": null,
   "id": "biblical-business",
   "metadata": {},
   "outputs": [],
   "source": [
    "uniform(0.0, 10.0).rvs()\n"
   ]
  },
  {
   "cell_type": "code",
   "execution_count": null,
   "id": "closed-explorer",
   "metadata": {},
   "outputs": [],
   "source": [
    "'uniform' in dir(scipy.stats)"
   ]
  },
  {
   "cell_type": "code",
   "execution_count": null,
   "id": "composite-basics",
   "metadata": {},
   "outputs": [],
   "source": [
    "uniform(*[0,10]).rvs()"
   ]
  },
  {
   "cell_type": "code",
   "execution_count": null,
   "id": "satisfied-intake",
   "metadata": {},
   "outputs": [],
   "source": [
    "uniform(10,2).pdf(10.0)"
   ]
  },
  {
   "cell_type": "code",
   "execution_count": null,
   "id": "smart-mauritius",
   "metadata": {},
   "outputs": [],
   "source": [
    "\"1.7\".isdigit()"
   ]
  },
  {
   "cell_type": "code",
   "execution_count": null,
   "id": "cellular-decade",
   "metadata": {},
   "outputs": [],
   "source": [
    "dir(scipy.stats)"
   ]
  },
  {
   "cell_type": "code",
   "execution_count": null,
   "id": "surprising-shark",
   "metadata": {},
   "outputs": [],
   "source": [
    "eval(\"scipy.stats.uniform(0,10)\").rvs()"
   ]
  },
  {
   "cell_type": "code",
   "execution_count": 1,
   "id": "adult-reggae",
   "metadata": {},
   "outputs": [
    {
     "name": "stdout",
     "output_type": "stream",
     "text": [
      "{'name': 'Receiver function example', 'description': 'This is a simple receiver function example. This YML file is meant to show how you can specify bounds on your model parameters. You can use any distribution defined in scipy.stats. In this example only uniform and gaussian distributions are used. Uniform a b means a uniform distribution between (a, a+b) and  norm a, b means a normal distribution with mean a and std-dev b.\\n', 'model': {'parameters': [{'name': 'earthmodel', 'bounds': [['uniform 7 2', 'uniform 2 2', 'uniform 1.7 0'], ['norm 16 2', 'uniform 2 2', 'uniform 1.7 0'], ['uniform 0 1', 'uniform 2 2', 'uniform 1.7 0'], ['norm 18 4', 'uniform 2 3', 'uniform 1.7 0'], ['norm 40 2', 'uniform 2 4', 'uniform 1.7 0'], ['norm 13 2', 'uniform 2 2', 'uniform 1.7 0'], ['uniform 40 20', 'uniform 2 4', 'uniform 1.7 0']]}]}, 'init_info': {'fs0': 25.0, 'gauss_a0': 2.5, 'water_c0': 0.0001, 'true_model': [[8.370596, 3.249075, 1.7], [17.23163, 3.00127, 1.7], [0.019126695, 2.509443, 1.7], [19.78145, 3.562691, 1.7], [41.73066, 4.225965, 1.7], [14.35261, 2.963322, 1.7], [49.92358, 4.586726, 1.7]]}, 'fwd_code': {'name': 'rfc', 'location': '/home/peter/personal/CoFI/user_testing/rfc'}, 'method': {'name': 'DumbDescent', 'args': {'model': {'parameters': [{'name': 'earthmodel', 'bounds': [['uniform 7 2', 'uniform 2 2', 'uniform 1.7 0'], ['norm 16 2', 'uniform 2 2', 'uniform 1.7 0'], ['uniform 0 1', 'uniform 2 2', 'uniform 1.7 0'], ['norm 18 4', 'uniform 2 3', 'uniform 1.7 0'], ['norm 40 2', 'uniform 2 4', 'uniform 1.7 0'], ['norm 13 2', 'uniform 2 2', 'uniform 1.7 0'], ['uniform 40 20', 'uniform 2 4', 'uniform 1.7 0']]}]}, 'forward': {'name': 'rfc', 'location': '/home/peter/personal/CoFI/user_testing/rfc'}, 'time': 30, 'step': 0.2}}}\n"
     ]
    }
   ],
   "source": [
    "import yaml\n",
    "import sys\n",
    "\n",
    "with open(r'/home/peter/personal/CoFI/user_testing/rfc_example.yml') as file:\n",
    "    cofi_spec = yaml.load(file, Loader=yaml.FullLoader)\n",
    "\n",
    "sys.path.append(cofi_spec[\"fwd_code\"][\"location\"])\n",
    "import importlib\n",
    "usermodule = importlib.import_module(cofi_spec[\"fwd_code\"][\"name\"])\n",
    "\n",
    "print(cofi_spec)\n",
    "\n",
    "\n"
   ]
  },
  {
   "cell_type": "code",
   "execution_count": 2,
   "id": "dated-biotechnology",
   "metadata": {},
   "outputs": [
    {
     "name": "stdout",
     "output_type": "stream",
     "text": [
      "cofi_init(fs0,gauss_a0,water_c0,true_model)\n",
      "\n",
      "Wrapper for ``cofi_init``.\n",
      "\n",
      "Parameters\n",
      "----------\n",
      "fs0 : input float\n",
      "gauss_a0 : input float\n",
      "water_c0 : input float\n",
      "true_model : input rank-2 array('f') with bounds (7,3)\n",
      "\n"
     ]
    }
   ],
   "source": [
    "\n",
    "print(usermodule.cofi_init.__doc__)\n",
    "\n",
    "from cofi_core import Model\n"
   ]
  },
  {
   "cell_type": "code",
   "execution_count": 3,
   "id": "terminal-intelligence",
   "metadata": {},
   "outputs": [],
   "source": [
    "usermodule.cofi_init(**cofi_spec['init_info'])"
   ]
  },
  {
   "cell_type": "code",
   "execution_count": 4,
   "id": "spectacular-violin",
   "metadata": {},
   "outputs": [],
   "source": [
    "m = Model.init_from_yaml(cofi_spec['model'])"
   ]
  },
  {
   "cell_type": "code",
   "execution_count": 5,
   "id": "located-anaheim",
   "metadata": {},
   "outputs": [
    {
     "data": {
      "text/plain": [
       "[['uniform 7 2', 'uniform 2 2', 'uniform 1.7 0'],\n",
       " ['norm 16 2', 'uniform 2 2', 'uniform 1.7 0'],\n",
       " ['uniform 0 1', 'uniform 2 2', 'uniform 1.7 0'],\n",
       " ['norm 18 4', 'uniform 2 3', 'uniform 1.7 0'],\n",
       " ['norm 40 2', 'uniform 2 4', 'uniform 1.7 0'],\n",
       " ['norm 13 2', 'uniform 2 2', 'uniform 1.7 0'],\n",
       " ['uniform 40 20', 'uniform 2 4', 'uniform 1.7 0']]"
      ]
     },
     "execution_count": 5,
     "metadata": {},
     "output_type": "execute_result"
    }
   ],
   "source": [
    "cofi_spec['model']['parameters'][0]['bounds']"
   ]
  },
  {
   "cell_type": "code",
   "execution_count": 6,
   "id": "cardiovascular-serve",
   "metadata": {},
   "outputs": [
    {
     "data": {
      "text/plain": [
       "<cofi_core.inverse.DumbDescent at 0x7eff18423fa0>"
      ]
     },
     "execution_count": 6,
     "metadata": {},
     "output_type": "execute_result"
    }
   ],
   "source": [
    "import cofi_core\n",
    "clsnm = cofi_spec['method']['name']\n",
    "#mod = __import__(clsnm, fromlist=['cofi_core'])\n",
    "klass = getattr(cofi_core, clsnm)\n",
    "klass(**cofi_spec['method']['args'])\n",
    "\n"
   ]
  },
  {
   "cell_type": "code",
   "execution_count": 7,
   "id": "preliminary-rogers",
   "metadata": {},
   "outputs": [],
   "source": [
    "import cofi_core\n",
    "  \n",
    "# getting attribute by\n",
    "# getattr() method\n",
    "my_class = getattr(cofi_core, \"DumbDescent\")"
   ]
  },
  {
   "cell_type": "code",
   "execution_count": null,
   "id": "saving-contrast",
   "metadata": {},
   "outputs": [],
   "source": []
  },
  {
   "cell_type": "code",
   "execution_count": null,
   "id": "defined-queen",
   "metadata": {},
   "outputs": [],
   "source": []
  }
 ],
 "metadata": {
  "kernelspec": {
   "display_name": "Python 3",
   "language": "python",
   "name": "python3"
  },
  "language_info": {
   "codemirror_mode": {
    "name": "ipython",
    "version": 3
   },
   "file_extension": ".py",
   "mimetype": "text/x-python",
   "name": "python",
   "nbconvert_exporter": "python",
   "pygments_lexer": "ipython3",
   "version": "3.8.6"
  }
 },
 "nbformat": 4,
 "nbformat_minor": 5
}
