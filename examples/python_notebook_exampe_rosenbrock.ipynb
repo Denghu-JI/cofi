{
 "cells": [
  {
   "cell_type": "markdown",
   "id": "incredible-chile",
   "metadata": {},
   "source": [
    "# Receiver function, python interface\n",
    "\n",
    "So you should already have been through the notebook showing the YAML interface. If not, do that first, as this notebook skips all the build steps required to compile code into something that CoFI can work with.\n",
    "\n",
    "So off the bat, I am going to be assuming you have compiled code into a shared library and it is wrapped in the right way to interact with CoFI (i.e. `cofi_init` and `cofi_misfit`) are implemented and wrapped/annotated.\n"
   ]
  },
  {
   "cell_type": "code",
   "execution_count": 33,
   "id": "false-strengthening",
   "metadata": {},
   "outputs": [],
   "source": [
    "# Import and initialize\n",
    "import numpy as np\n",
    "import os\n",
    "import sys\n",
    "from plotnine import *\n",
    "import pandas as pd\n",
    "sys.path.append(\"/home/peter/personal/CoFI/\")\n",
    "import cofi_core\n",
    "from cofi_core import DumbDescent \n",
    "from cofi_core import Model\n",
    "np.random.seed(60065)"
   ]
  },
  {
   "cell_type": "markdown",
   "id": "certified-earth",
   "metadata": {},
   "source": [
    "# Step 1: import your code \n",
    "\n",
    "If you have built your shared library you just need to make sure it is in the python library path, and then import it."
   ]
  },
  {
   "cell_type": "code",
   "execution_count": 34,
   "id": "common-aruba",
   "metadata": {
    "scrolled": true
   },
   "outputs": [],
   "source": [
    "OBJDIR=\"/home/peter/personal/CoFI/user_testing/\"\n",
    "sys.path.append(OBJDIR)\n",
    "import rosenbrock"
   ]
  },
  {
   "cell_type": "markdown",
   "id": "looking-belarus",
   "metadata": {},
   "source": [
    "Let's have a quick look at the code, because it is so simple"
   ]
  },
  {
   "cell_type": "code",
   "execution_count": 35,
   "id": "shared-beach",
   "metadata": {},
   "outputs": [
    {
     "name": "stdout",
     "output_type": "stream",
     "text": [
      "\r\n",
      "def cofi_init():\r\n",
      "    pass\r\n",
      "\r\n",
      "def cofi_misfit(x, y):\r\n",
      "    A, B = 1.0, 100.0\r\n",
      "    return (A-x)**2 + B*(y-x**2)**2\r\n",
      "\r\n",
      "\r\n"
     ]
    }
   ],
   "source": [
    "! cat $OBJDIR/rosenbrock.py"
   ]
  },
  {
   "cell_type": "code",
   "execution_count": 36,
   "id": "opened-limitation",
   "metadata": {},
   "outputs": [
    {
     "data": {
      "text/plain": [
       "810081.0"
      ]
     },
     "execution_count": 36,
     "metadata": {},
     "output_type": "execute_result"
    }
   ],
   "source": [
    "misfit = rosenbrock.cofi_misfit(10, 10)\n",
    "misfit"
   ]
  },
  {
   "cell_type": "markdown",
   "id": "supported-excitement",
   "metadata": {},
   "source": [
    "Now let's run the simple DumbDescent inverse solver for 10s and see if we can improve things\n"
   ]
  },
  {
   "cell_type": "code",
   "execution_count": 37,
   "id": "available-venice",
   "metadata": {},
   "outputs": [],
   "source": [
    "m=Model(x=10.0, y=10.0)\n",
    "desc = DumbDescent(model=m, forward=rosenbrock.cofi_misfit, step=0.05, time=10)\n",
    "res = desc.run()"
   ]
  },
  {
   "cell_type": "markdown",
   "id": "intensive-norway",
   "metadata": {},
   "source": [
    "Take a look at the results returned from the inverter. These will be different for each inverse solver: but here we get the best fitting model, the misfit of that model, how the misfit changed over time during inversion (i.e. during multiple calls to `cofi_misfit()`) and some other information returned from `cofi_misfit()`"
   ]
  },
  {
   "cell_type": "code",
   "execution_count": 38,
   "id": "bored-lender",
   "metadata": {},
   "outputs": [
    {
     "name": "stdout",
     "output_type": "stream",
     "text": [
      "dict_keys(['model', 'misfit', 'misfit_by_time', 'cofi_misfit_results_for_best_model_1'])\n"
     ]
    }
   ],
   "source": [
    "print(res.keys())\n",
    "model, misfit, pred2 = res['model'], res['misfit'], res['cofi_misfit_results_for_best_model_1']\n",
    "misfit_by_time = res['misfit_by_time']"
   ]
  },
  {
   "cell_type": "markdown",
   "id": "south-antigua",
   "metadata": {},
   "source": [
    "What parameters did we get out? Looks like, like everyone else before us, we managed to get close to the solution for our 2D problem...."
   ]
  },
  {
   "cell_type": "code",
   "execution_count": 39,
   "id": "thermal-client",
   "metadata": {},
   "outputs": [
    {
     "data": {
      "text/plain": [
       "[name: x\n",
       " value: 1.0000565653703803,\n",
       " name: y\n",
       " value: 1.000136361885634]"
      ]
     },
     "execution_count": 39,
     "metadata": {},
     "output_type": "execute_result"
    }
   ],
   "source": [
    "model.params"
   ]
  },
  {
   "cell_type": "markdown",
   "id": "suspected-order",
   "metadata": {},
   "source": [
    "Lastly let's plot how the misfit changed over time. I'll truncate the first 10000 evaluations though because we started in such a poor starting location."
   ]
  },
  {
   "cell_type": "code",
   "execution_count": 40,
   "id": "southeast-monthly",
   "metadata": {},
   "outputs": [
    {
     "data": {
      "image/png": "[encoded data removed]",
      "text/plain": [
       "<Figure size 640x480 with 1 Axes>"
      ]
     },
     "metadata": {},
     "output_type": "display_data"
    },
    {
     "data": {
      "text/plain": [
       "<ggplot: (8729321843125)>"
      ]
     },
     "execution_count": 40,
     "metadata": {},
     "output_type": "execute_result"
    }
   ],
   "source": [
    "ggplot(pd.DataFrame(misfit_by_time[10000:], columns=[\"time\", \"misfit\"])) + geom_line(aes(x=\"time\", y=\"misfit\"))"
   ]
  },
  {
   "cell_type": "code",
   "execution_count": null,
   "id": "marine-fireplace",
   "metadata": {},
   "outputs": [],
   "source": []
  }
 ],
 "metadata": {
  "kernelspec": {
   "display_name": "Python 3",
   "language": "python",
   "name": "python3"
  },
  "language_info": {
   "codemirror_mode": {
    "name": "ipython",
    "version": 3
   },
   "file_extension": ".py",
   "mimetype": "text/x-python",
   "name": "python",
   "nbconvert_exporter": "python",
   "pygments_lexer": "ipython3",
   "version": "3.8.6"
  }
 },
 "nbformat": 4,
 "nbformat_minor": 5
}
