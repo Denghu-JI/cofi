{
 "cells": [
  {
   "cell_type": "code",
   "execution_count": 3,
   "metadata": {},
   "outputs": [],
   "source": [
    "import inverser\n",
    "import rjmcmc"
   ]
  },
  {
   "cell_type": "code",
   "execution_count": 4,
   "metadata": {},
   "outputs": [],
   "source": [
    "# --------------------- load data ---------------------\n",
    "f = open('data.txt', 'r')\n",
    "lines = f.readlines()\n",
    "\n",
    "x = []\n",
    "y = []\n",
    "\n",
    "for line in lines:\n",
    "    columns = line.split()\n",
    "\n",
    "    x.append(float(columns[0]))\n",
    "    y.append(float(columns[1]))\n",
    "\n",
    "f.close()"
   ]
  },
  {
   "cell_type": "code",
   "execution_count": 8,
   "metadata": {},
   "outputs": [
    {
     "name": "stdout",
     "output_type": "stream",
     "text": [
      "<rjmcmc.resultset1d; proxy of <Swig Object of type 'resultset1d *' at 0x7fe5a8799480> >\n"
     ]
    }
   ],
   "source": [
    "# ---------------------- analysis ---------------------\n",
    "\n",
    "sigma = 3.0\n",
    "n = [sigma] * len(x)\n",
    "\n",
    "data = rjmcmc.dataset1d(x, y, n)\n",
    "\n",
    "# default analysis\n",
    "results = rjmcmc.regression_single1d(data)\n",
    "\n",
    "print(results)"
   ]
  },
  {
   "cell_type": "code",
   "execution_count": null,
   "metadata": {},
   "outputs": [],
   "source": []
  }
 ],
 "metadata": {
  "interpreter": {
   "hash": "ebebfdd56044e0404198b7bbfa1bb5cb569a2e250103d5fecfd813321bdd3be0"
  },
  "kernelspec": {
   "display_name": "Python 3.9.7 64-bit ('cofi_dev': conda)",
   "name": "python3"
  },
  "language_info": {
   "codemirror_mode": {
    "name": "ipython",
    "version": 3
   },
   "file_extension": ".py",
   "mimetype": "text/x-python",
   "name": "python",
   "nbconvert_exporter": "python",
   "pygments_lexer": "ipython3",
   "version": "3.9.7"
  },
  "orig_nbformat": 4
 },
 "nbformat": 4,
 "nbformat_minor": 2
}
