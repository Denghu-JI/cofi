{
 "cells": [
  {
   "cell_type": "markdown",
   "id": "surgical-great",
   "metadata": {},
   "source": [
    "# An example of including a new forward problem in CoFI\n",
    "\n",
    "CoFI will ship with a bunch of pre-defined forward problems and inverse solvers, and examples showing how to connect the two.\n",
    "\n",
    "But we would like users of CoFI to be able to come along with their own forward problem, and by doing as little as work as possible (ideally, just writing a yml file), be able to use CoFI. This notebook steps through that process, starting from the point of view of a user that has ONLY downloaded CoFI, and wants to use it to help solve/sample their forward problem.\n"
   ]
  },
  {
   "cell_type": "code",
   "execution_count": 1,
   "id": "straight-honey",
   "metadata": {},
   "outputs": [],
   "source": [
    "import numpy as np"
   ]
  },
  {
   "cell_type": "code",
   "execution_count": 2,
   "id": "arranged-frederick",
   "metadata": {},
   "outputs": [],
   "source": [
    "import rfc"
   ]
  },
  {
   "cell_type": "code",
   "execution_count": 3,
   "id": "attached-newspaper",
   "metadata": {},
   "outputs": [
    {
     "data": {
      "text/plain": [
       "['__doc__',\n",
       " '__f2py_numpy_version__',\n",
       " '__file__',\n",
       " '__loader__',\n",
       " '__name__',\n",
       " '__package__',\n",
       " '__spec__',\n",
       " '__version__',\n",
       " '_rfc_error',\n",
       " 'cofi_init',\n",
       " 'cofi_misfit',\n",
       " 'fwd']"
      ]
     },
     "execution_count": 3,
     "metadata": {},
     "output_type": "execute_result"
    }
   ],
   "source": [
    "dir(rfc)"
   ]
  },
  {
   "cell_type": "code",
   "execution_count": 7,
   "id": "coordinate-sending",
   "metadata": {},
   "outputs": [
    {
     "name": "stdout",
     "output_type": "stream",
     "text": [
      "cofi_misfit(model,mtype,fs,gauss_a,water_c,angle,time_shift,v60,value_obs,misfit,[ndatar])\n",
      "\n",
      "Wrapper for ``cofi_misfit``.\n",
      "\n",
      "Parameters\n",
      "----------\n",
      "model : input rank-2 array('f') with bounds (f2py_model_d0,f2py_model_d1)\n",
      "mtype : input int\n",
      "fs : input float\n",
      "gauss_a : input float\n",
      "water_c : input float\n",
      "angle : input float\n",
      "time_shift : input float\n",
      "v60 : input float\n",
      "value_obs : input rank-1 array('f') with bounds (ndatar)\n",
      "misfit : input float\n",
      "\n",
      "Other Parameters\n",
      "----------------\n",
      "ndatar : input int, optional\n",
      "    Default: len(value_obs)\n",
      "\n"
     ]
    }
   ],
   "source": [
    "print(rfc.cofi_misfit.__doc__)\n"
   ]
  },
  {
   "cell_type": "code",
   "execution_count": null,
   "id": "burning-treatment",
   "metadata": {},
   "outputs": [],
   "source": []
  }
 ],
 "metadata": {
  "kernelspec": {
   "display_name": "Python 3",
   "language": "python",
   "name": "python3"
  },
  "language_info": {
   "codemirror_mode": {
    "name": "ipython",
    "version": 3
   },
   "file_extension": ".py",
   "mimetype": "text/x-python",
   "name": "python",
   "nbconvert_exporter": "python",
   "pygments_lexer": "ipython3",
   "version": "3.8.6"
  }
 },
 "nbformat": 4,
 "nbformat_minor": 5
}
