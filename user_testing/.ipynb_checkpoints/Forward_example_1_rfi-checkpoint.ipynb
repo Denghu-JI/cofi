{
 "cells": [
  {
   "cell_type": "markdown",
   "id": "surgical-great",
   "metadata": {},
   "source": [
    "# An example of including a new forward problem in CoFI\n",
    "\n",
    "CoFI will ship with a bunch of pre-defined forward problems and inverse solvers, and examples showing how to connect the two.\n",
    "\n",
    "But we would like users of CoFI to be able to come along with their own forward problem, and by doing as little as work as possible (ideally, just writing a yml file), be able to use CoFI. This notebook steps through that process, starting from the point of view of a user that has ONLY downloaded CoFI, and wants to use it to help solve/sample their forward problem.\n"
   ]
  },
  {
   "cell_type": "code",
   "execution_count": null,
   "id": "straight-honey",
   "metadata": {},
   "outputs": [],
   "source": []
  },
  {
   "cell_type": "code",
   "execution_count": null,
   "id": "arranged-frederick",
   "metadata": {},
   "outputs": [],
   "source": []
  },
  {
   "cell_type": "code",
   "execution_count": null,
   "id": "returning-orbit",
   "metadata": {},
   "outputs": [],
   "source": []
  }
 ],
 "metadata": {
  "kernelspec": {
   "display_name": "Python 3",
   "language": "python",
   "name": "python3"
  },
  "language_info": {
   "codemirror_mode": {
    "name": "ipython",
    "version": 3
   },
   "file_extension": ".py",
   "mimetype": "text/x-python",
   "name": "python",
   "nbconvert_exporter": "python",
   "pygments_lexer": "ipython3",
   "version": "3.8.6"
  }
 },
 "nbformat": 4,
 "nbformat_minor": 5
}
